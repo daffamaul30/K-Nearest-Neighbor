{
  "nbformat": 4,
  "nbformat_minor": 0,
  "metadata": {
    "colab": {
      "name": "k-nearest neighbor.ipynb",
      "provenance": [],
      "collapsed_sections": [],
      "authorship_tag": "ABX9TyMoANTROUKAiJFlLbNX2uTh",
      "include_colab_link": true
    },
    "kernelspec": {
      "name": "python3",
      "display_name": "Python 3"
    }
  },
  "cells": [
    {
      "cell_type": "markdown",
      "metadata": {
        "id": "view-in-github",
        "colab_type": "text"
      },
      "source": [
        "<a href=\"https://colab.research.google.com/github/daffamaul30/K-Nearest-Neighbor/blob/master/k_nearest_neighbor.ipynb\" target=\"_parent\"><img src=\"https://colab.research.google.com/assets/colab-badge.svg\" alt=\"Open In Colab\"/></a>"
      ]
    },
    {
      "cell_type": "code",
      "metadata": {
        "id": "iM5j9jPCRAFl",
        "colab_type": "code",
        "colab": {}
      },
      "source": [
        "import pandas as pd\n",
        "import numpy as np\n",
        "import random"
      ],
      "execution_count": 0,
      "outputs": []
    },
    {
      "cell_type": "code",
      "metadata": {
        "id": "xCt_WZe0RK82",
        "colab_type": "code",
        "colab": {}
      },
      "source": [
        "excel_file = 'retail_record_2.xlsx'\n",
        "df = pd.read_excel(excel_file)"
      ],
      "execution_count": 0,
      "outputs": []
    },
    {
      "cell_type": "code",
      "metadata": {
        "id": "5wIZplDySVP8",
        "colab_type": "code",
        "colab": {}
      },
      "source": [
        "df.head()"
      ],
      "execution_count": 0,
      "outputs": []
    },
    {
      "cell_type": "code",
      "metadata": {
        "id": "6CIpd-G7Si_G",
        "colab_type": "code",
        "colab": {
          "base_uri": "https://localhost:8080/",
          "height": 170
        },
        "outputId": "c422c79e-b695-42bd-fde1-e54076ec3fef"
      },
      "source": [
        "df.info()"
      ],
      "execution_count": 362,
      "outputs": [
        {
          "output_type": "stream",
          "text": [
            "<class 'pandas.core.frame.DataFrame'>\n",
            "RangeIndex: 30 entries, 0 to 29\n",
            "Data columns (total 4 columns):\n",
            "Unnamed: 0            30 non-null int64\n",
            "manufacturing cost    30 non-null float64\n",
            "retail price          30 non-null float64\n",
            "sales_performance     30 non-null int64\n",
            "dtypes: float64(2), int64(2)\n",
            "memory usage: 1.1 KB\n"
          ],
          "name": "stdout"
        }
      ]
    },
    {
      "cell_type": "code",
      "metadata": {
        "id": "_P5-h28jSycF",
        "colab_type": "code",
        "colab": {}
      },
      "source": [
        "from sklearn.model_selection import train_test_split"
      ],
      "execution_count": 0,
      "outputs": []
    },
    {
      "cell_type": "code",
      "metadata": {
        "id": "H9ypFeXvS02C",
        "colab_type": "code",
        "colab": {}
      },
      "source": [
        "x = df.iloc[:, :3].values\n",
        "y = df.iloc[:, -1].values\n",
        "print(len(y))\n",
        "print(x)\n",
        "print(y)\n",
        "x_train, x_test, y_train, y_test = train_test_split(x, y, test_size = 0.33, random_state=0)\n",
        "print(len(x_train))\n",
        "print(x_train)\n",
        "print(len(x_test))\n",
        "print(x_test)\n",
        "print(len(y_train))\n",
        "print(y_train)\n",
        "print(len(y_test))\n",
        "print(y_test)"
      ],
      "execution_count": 0,
      "outputs": []
    },
    {
      "cell_type": "code",
      "metadata": {
        "id": "yH9TAg3cbDNv",
        "colab_type": "code",
        "colab": {}
      },
      "source": [
        "from sklearn.neighbors import KNeighborsClassifier"
      ],
      "execution_count": 0,
      "outputs": []
    },
    {
      "cell_type": "code",
      "metadata": {
        "id": "jEvtGFTxbDrI",
        "colab_type": "code",
        "colab": {}
      },
      "source": [
        "klasifikasi = KNeighborsClassifier(n_neighbors=1)\n",
        "klasifikasi.fit(x_train, y_train)"
      ],
      "execution_count": 0,
      "outputs": []
    },
    {
      "cell_type": "code",
      "metadata": {
        "id": "GFEbSGU7bav8",
        "colab_type": "code",
        "colab": {}
      },
      "source": [
        "y_pred = klasifikasi.predict(x_test)\n",
        "print(y_pred)\n",
        "print(y_test)"
      ],
      "execution_count": 0,
      "outputs": []
    }
  ]
}